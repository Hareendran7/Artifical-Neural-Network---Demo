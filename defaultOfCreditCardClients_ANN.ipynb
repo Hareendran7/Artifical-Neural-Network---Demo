{
 "cells": [
  {
   "cell_type": "code",
   "execution_count": 1,
   "metadata": {},
   "outputs": [],
   "source": [
    "#To ignore the displayed warnings\n",
    "import warnings\n",
    "warnings.filterwarnings(\"ignore\")"
   ]
  },
  {
   "cell_type": "code",
   "execution_count": 2,
   "metadata": {},
   "outputs": [
    {
     "data": {
      "text/html": [
       "<div>\n",
       "<style scoped>\n",
       "    .dataframe tbody tr th:only-of-type {\n",
       "        vertical-align: middle;\n",
       "    }\n",
       "\n",
       "    .dataframe tbody tr th {\n",
       "        vertical-align: top;\n",
       "    }\n",
       "\n",
       "    .dataframe thead th {\n",
       "        text-align: right;\n",
       "    }\n",
       "</style>\n",
       "<table border=\"1\" class=\"dataframe\">\n",
       "  <thead>\n",
       "    <tr style=\"text-align: right;\">\n",
       "      <th></th>\n",
       "      <th>X1</th>\n",
       "      <th>X2</th>\n",
       "      <th>X3</th>\n",
       "      <th>X4</th>\n",
       "      <th>X5</th>\n",
       "      <th>X6</th>\n",
       "      <th>X7</th>\n",
       "      <th>X8</th>\n",
       "      <th>X9</th>\n",
       "      <th>X10</th>\n",
       "      <th>...</th>\n",
       "      <th>X15</th>\n",
       "      <th>X16</th>\n",
       "      <th>X17</th>\n",
       "      <th>X18</th>\n",
       "      <th>X19</th>\n",
       "      <th>X20</th>\n",
       "      <th>X21</th>\n",
       "      <th>X22</th>\n",
       "      <th>X23</th>\n",
       "      <th>Y</th>\n",
       "    </tr>\n",
       "  </thead>\n",
       "  <tbody>\n",
       "    <tr>\n",
       "      <th>1</th>\n",
       "      <td>20000</td>\n",
       "      <td>2</td>\n",
       "      <td>2</td>\n",
       "      <td>1</td>\n",
       "      <td>24</td>\n",
       "      <td>2</td>\n",
       "      <td>2</td>\n",
       "      <td>-1</td>\n",
       "      <td>-1</td>\n",
       "      <td>-2</td>\n",
       "      <td>...</td>\n",
       "      <td>0</td>\n",
       "      <td>0</td>\n",
       "      <td>0</td>\n",
       "      <td>0</td>\n",
       "      <td>689</td>\n",
       "      <td>0</td>\n",
       "      <td>0</td>\n",
       "      <td>0</td>\n",
       "      <td>0</td>\n",
       "      <td>1</td>\n",
       "    </tr>\n",
       "    <tr>\n",
       "      <th>2</th>\n",
       "      <td>120000</td>\n",
       "      <td>2</td>\n",
       "      <td>2</td>\n",
       "      <td>2</td>\n",
       "      <td>26</td>\n",
       "      <td>-1</td>\n",
       "      <td>2</td>\n",
       "      <td>0</td>\n",
       "      <td>0</td>\n",
       "      <td>0</td>\n",
       "      <td>...</td>\n",
       "      <td>3272</td>\n",
       "      <td>3455</td>\n",
       "      <td>3261</td>\n",
       "      <td>0</td>\n",
       "      <td>1000</td>\n",
       "      <td>1000</td>\n",
       "      <td>1000</td>\n",
       "      <td>0</td>\n",
       "      <td>2000</td>\n",
       "      <td>1</td>\n",
       "    </tr>\n",
       "    <tr>\n",
       "      <th>3</th>\n",
       "      <td>90000</td>\n",
       "      <td>2</td>\n",
       "      <td>2</td>\n",
       "      <td>2</td>\n",
       "      <td>34</td>\n",
       "      <td>0</td>\n",
       "      <td>0</td>\n",
       "      <td>0</td>\n",
       "      <td>0</td>\n",
       "      <td>0</td>\n",
       "      <td>...</td>\n",
       "      <td>14331</td>\n",
       "      <td>14948</td>\n",
       "      <td>15549</td>\n",
       "      <td>1518</td>\n",
       "      <td>1500</td>\n",
       "      <td>1000</td>\n",
       "      <td>1000</td>\n",
       "      <td>1000</td>\n",
       "      <td>5000</td>\n",
       "      <td>0</td>\n",
       "    </tr>\n",
       "    <tr>\n",
       "      <th>4</th>\n",
       "      <td>50000</td>\n",
       "      <td>2</td>\n",
       "      <td>2</td>\n",
       "      <td>1</td>\n",
       "      <td>37</td>\n",
       "      <td>0</td>\n",
       "      <td>0</td>\n",
       "      <td>0</td>\n",
       "      <td>0</td>\n",
       "      <td>0</td>\n",
       "      <td>...</td>\n",
       "      <td>28314</td>\n",
       "      <td>28959</td>\n",
       "      <td>29547</td>\n",
       "      <td>2000</td>\n",
       "      <td>2019</td>\n",
       "      <td>1200</td>\n",
       "      <td>1100</td>\n",
       "      <td>1069</td>\n",
       "      <td>1000</td>\n",
       "      <td>0</td>\n",
       "    </tr>\n",
       "    <tr>\n",
       "      <th>5</th>\n",
       "      <td>50000</td>\n",
       "      <td>1</td>\n",
       "      <td>2</td>\n",
       "      <td>1</td>\n",
       "      <td>57</td>\n",
       "      <td>-1</td>\n",
       "      <td>0</td>\n",
       "      <td>-1</td>\n",
       "      <td>0</td>\n",
       "      <td>0</td>\n",
       "      <td>...</td>\n",
       "      <td>20940</td>\n",
       "      <td>19146</td>\n",
       "      <td>19131</td>\n",
       "      <td>2000</td>\n",
       "      <td>36681</td>\n",
       "      <td>10000</td>\n",
       "      <td>9000</td>\n",
       "      <td>689</td>\n",
       "      <td>679</td>\n",
       "      <td>0</td>\n",
       "    </tr>\n",
       "  </tbody>\n",
       "</table>\n",
       "<p>5 rows × 24 columns</p>\n",
       "</div>"
      ],
      "text/plain": [
       "       X1  X2  X3  X4  X5  X6  X7  X8  X9  X10 ...    X15    X16    X17   X18  \\\n",
       "1   20000   2   2   1  24   2   2  -1  -1   -2 ...      0      0      0     0   \n",
       "2  120000   2   2   2  26  -1   2   0   0    0 ...   3272   3455   3261     0   \n",
       "3   90000   2   2   2  34   0   0   0   0    0 ...  14331  14948  15549  1518   \n",
       "4   50000   2   2   1  37   0   0   0   0    0 ...  28314  28959  29547  2000   \n",
       "5   50000   1   2   1  57  -1   0  -1   0    0 ...  20940  19146  19131  2000   \n",
       "\n",
       "     X19    X20   X21   X22   X23  Y  \n",
       "1    689      0     0     0     0  1  \n",
       "2   1000   1000  1000     0  2000  1  \n",
       "3   1500   1000  1000  1000  5000  0  \n",
       "4   2019   1200  1100  1069  1000  0  \n",
       "5  36681  10000  9000   689   679  0  \n",
       "\n",
       "[5 rows x 24 columns]"
      ]
     },
     "execution_count": 2,
     "metadata": {},
     "output_type": "execute_result"
    }
   ],
   "source": [
    "#Panda Library is used to Load data into a dataframe from the Excel File\n",
    "import pandas as pd\n",
    "features = pd.read_excel('D:\\\\SLIIT\\\\4th Year\\\\ML\\\\Assignment\\\\default of credit card clients Data Set\\\\default of credit card clients.xls')\n",
    "\n",
    "#Display first 5 rows of the loaded dataset\n",
    "features.head(5)"
   ]
  },
  {
   "cell_type": "code",
   "execution_count": 3,
   "metadata": {},
   "outputs": [
    {
     "name": "stdout",
     "output_type": "stream",
     "text": [
      "Not Default: 23364\n",
      "Default: 6636\n",
      "Proportion: 3.52 : 1\n"
     ]
    }
   ],
   "source": [
    "#Display the Count of each target label and it's proportion\n",
    "label_count = features.Y.value_counts()\n",
    "print('Not Default:', label_count[0])\n",
    "print('Default:', label_count[1])\n",
    "print('Proportion:', round(label_count[0] / label_count[1], 2), ': 1')"
   ]
  },
  {
   "cell_type": "code",
   "execution_count": 4,
   "metadata": {},
   "outputs": [
    {
     "name": "stdout",
     "output_type": "stream",
     "text": [
      "Random Under Sampling\n",
      "1    6636\n",
      "0    6636\n",
      "Name: Y, dtype: int64\n"
     ]
    }
   ],
   "source": [
    "#Random undersampling to remove samples from majority class and equate the proporion of target labels\n",
    "\n",
    "# count classes\n",
    "count_class_0, count_class_1 = features.Y.value_counts()\n",
    "\n",
    "# Divide by class and random undersampling\n",
    "df_class_0 = features[features['Y'] == 0]\n",
    "df_class_1 = features[features['Y'] == 1]\n",
    "\n",
    "df_class_0_under = df_class_0.sample(count_class_1)\n",
    "df_test_under = pd.concat([df_class_0_under, df_class_1], axis=0)\n",
    "\n",
    "print('Random Under Sampling')\n",
    "print(df_test_under.Y.value_counts())\n",
    "\n",
    "df_test_under.Y.value_counts().plot(kind='bar', title='Count (target)');"
   ]
  },
  {
   "cell_type": "code",
   "execution_count": 5,
   "metadata": {},
   "outputs": [],
   "source": [
    "#Defining the feature sets into x variable and the series of corresponding labels into the y variable\n",
    "y = df_test_under['Y']\n",
    "x = df_test_under.drop(columns = ['Y'])"
   ]
  },
  {
   "cell_type": "code",
   "execution_count": 6,
   "metadata": {},
   "outputs": [],
   "source": [
    "#Splitting the datset into training set and test set\n",
    "from sklearn.model_selection import train_test_split  \n",
    "x_train, x_test, y_train, y_test = train_test_split(x, y, test_size = 0.2, random_state = 42)  "
   ]
  },
  {
   "cell_type": "code",
   "execution_count": 7,
   "metadata": {},
   "outputs": [],
   "source": [
    "#Standard scalar normalization to normalize the feature set\n",
    "from sklearn.preprocessing import StandardScaler  \n",
    "sc = StandardScaler()  \n",
    "x_train = sc.fit_transform(x_train)  \n",
    "x_test = sc.transform(x_test) "
   ]
  },
  {
   "cell_type": "code",
   "execution_count": 8,
   "metadata": {},
   "outputs": [],
   "source": [
    "#Selection of Pricincipal Components while maintaining 95% of variance\n",
    "from sklearn.decomposition import PCA\n",
    "principalComponents = PCA(0.95)\n",
    "x_train = principalComponents.fit_transform(x_train)  \n",
    "x_test = principalComponents.transform(x_test)"
   ]
  },
  {
   "cell_type": "code",
   "execution_count": 9,
   "metadata": {},
   "outputs": [
    {
     "data": {
      "text/html": [
       "<div>\n",
       "<style scoped>\n",
       "    .dataframe tbody tr th:only-of-type {\n",
       "        vertical-align: middle;\n",
       "    }\n",
       "\n",
       "    .dataframe tbody tr th {\n",
       "        vertical-align: top;\n",
       "    }\n",
       "\n",
       "    .dataframe thead th {\n",
       "        text-align: right;\n",
       "    }\n",
       "</style>\n",
       "<table border=\"1\" class=\"dataframe\">\n",
       "  <thead>\n",
       "    <tr style=\"text-align: right;\">\n",
       "      <th></th>\n",
       "      <th>0</th>\n",
       "      <th>1</th>\n",
       "      <th>2</th>\n",
       "      <th>3</th>\n",
       "      <th>4</th>\n",
       "      <th>5</th>\n",
       "      <th>6</th>\n",
       "      <th>7</th>\n",
       "      <th>8</th>\n",
       "      <th>9</th>\n",
       "      <th>10</th>\n",
       "      <th>11</th>\n",
       "      <th>12</th>\n",
       "      <th>13</th>\n",
       "      <th>14</th>\n",
       "      <th>Y</th>\n",
       "    </tr>\n",
       "  </thead>\n",
       "  <tbody>\n",
       "    <tr>\n",
       "      <th>0</th>\n",
       "      <td>0.084583</td>\n",
       "      <td>-2.699271</td>\n",
       "      <td>0.039887</td>\n",
       "      <td>1.785890</td>\n",
       "      <td>0.382083</td>\n",
       "      <td>-0.837246</td>\n",
       "      <td>-0.254564</td>\n",
       "      <td>-0.040919</td>\n",
       "      <td>0.136590</td>\n",
       "      <td>1.320471</td>\n",
       "      <td>0.059725</td>\n",
       "      <td>0.505168</td>\n",
       "      <td>0.614860</td>\n",
       "      <td>-0.586550</td>\n",
       "      <td>0.591219</td>\n",
       "      <td>NaN</td>\n",
       "    </tr>\n",
       "    <tr>\n",
       "      <th>1</th>\n",
       "      <td>1.889727</td>\n",
       "      <td>1.176584</td>\n",
       "      <td>0.381064</td>\n",
       "      <td>-0.145360</td>\n",
       "      <td>-1.969020</td>\n",
       "      <td>-0.576414</td>\n",
       "      <td>3.122638</td>\n",
       "      <td>-3.443804</td>\n",
       "      <td>-0.595978</td>\n",
       "      <td>-0.392541</td>\n",
       "      <td>0.065943</td>\n",
       "      <td>0.847465</td>\n",
       "      <td>0.366638</td>\n",
       "      <td>-0.736304</td>\n",
       "      <td>0.009134</td>\n",
       "      <td>1.0</td>\n",
       "    </tr>\n",
       "    <tr>\n",
       "      <th>2</th>\n",
       "      <td>-0.524572</td>\n",
       "      <td>-2.613512</td>\n",
       "      <td>0.563797</td>\n",
       "      <td>0.463132</td>\n",
       "      <td>-1.029888</td>\n",
       "      <td>0.771295</td>\n",
       "      <td>0.136516</td>\n",
       "      <td>0.118770</td>\n",
       "      <td>-0.430866</td>\n",
       "      <td>-1.127988</td>\n",
       "      <td>-0.135144</td>\n",
       "      <td>0.367864</td>\n",
       "      <td>0.777702</td>\n",
       "      <td>-0.676566</td>\n",
       "      <td>0.772147</td>\n",
       "      <td>1.0</td>\n",
       "    </tr>\n",
       "    <tr>\n",
       "      <th>3</th>\n",
       "      <td>0.220766</td>\n",
       "      <td>-1.424168</td>\n",
       "      <td>0.637464</td>\n",
       "      <td>0.634947</td>\n",
       "      <td>1.723326</td>\n",
       "      <td>0.063849</td>\n",
       "      <td>0.278043</td>\n",
       "      <td>-0.181145</td>\n",
       "      <td>-0.274635</td>\n",
       "      <td>0.196067</td>\n",
       "      <td>-0.688099</td>\n",
       "      <td>0.592709</td>\n",
       "      <td>-1.190151</td>\n",
       "      <td>0.589002</td>\n",
       "      <td>-1.483270</td>\n",
       "      <td>0.0</td>\n",
       "    </tr>\n",
       "    <tr>\n",
       "      <th>4</th>\n",
       "      <td>0.707151</td>\n",
       "      <td>0.413828</td>\n",
       "      <td>0.468762</td>\n",
       "      <td>0.761693</td>\n",
       "      <td>0.892127</td>\n",
       "      <td>-0.298009</td>\n",
       "      <td>-0.658817</td>\n",
       "      <td>-0.293293</td>\n",
       "      <td>-0.127759</td>\n",
       "      <td>0.280139</td>\n",
       "      <td>-1.178371</td>\n",
       "      <td>-1.614247</td>\n",
       "      <td>-0.401185</td>\n",
       "      <td>-0.510774</td>\n",
       "      <td>0.191580</td>\n",
       "      <td>0.0</td>\n",
       "    </tr>\n",
       "  </tbody>\n",
       "</table>\n",
       "</div>"
      ],
      "text/plain": [
       "          0         1         2         3         4         5         6  \\\n",
       "0  0.084583 -2.699271  0.039887  1.785890  0.382083 -0.837246 -0.254564   \n",
       "1  1.889727  1.176584  0.381064 -0.145360 -1.969020 -0.576414  3.122638   \n",
       "2 -0.524572 -2.613512  0.563797  0.463132 -1.029888  0.771295  0.136516   \n",
       "3  0.220766 -1.424168  0.637464  0.634947  1.723326  0.063849  0.278043   \n",
       "4  0.707151  0.413828  0.468762  0.761693  0.892127 -0.298009 -0.658817   \n",
       "\n",
       "          7         8         9        10        11        12        13  \\\n",
       "0 -0.040919  0.136590  1.320471  0.059725  0.505168  0.614860 -0.586550   \n",
       "1 -3.443804 -0.595978 -0.392541  0.065943  0.847465  0.366638 -0.736304   \n",
       "2  0.118770 -0.430866 -1.127988 -0.135144  0.367864  0.777702 -0.676566   \n",
       "3 -0.181145 -0.274635  0.196067 -0.688099  0.592709 -1.190151  0.589002   \n",
       "4 -0.293293 -0.127759  0.280139 -1.178371 -1.614247 -0.401185 -0.510774   \n",
       "\n",
       "         14    Y  \n",
       "0  0.591219  NaN  \n",
       "1  0.009134  1.0  \n",
       "2  0.772147  1.0  \n",
       "3 -1.483270  0.0  \n",
       "4  0.191580  0.0  "
      ]
     },
     "execution_count": 9,
     "metadata": {},
     "output_type": "execute_result"
    }
   ],
   "source": [
    "# Adding the count of features into a data frame\n",
    "pcaDataFrame = pd.DataFrame(data=x_train)\n",
    "\n",
    "# Concatatanating the result column\n",
    "finalDataFrame = pd.concat([pcaDataFrame, features[['Y']]], axis = 1)\n",
    "\n",
    "# Displaying the first 5 rows of the final frame\n",
    "finalDataFrame.head(5)"
   ]
  },
  {
   "cell_type": "code",
   "execution_count": 10,
   "metadata": {},
   "outputs": [],
   "source": [
    "#Importing the Classifier for training and making predictions\n",
    "from sklearn.neural_network import MLPClassifier  \n",
    "\n",
    "classifier = MLPClassifier(hidden_layer_sizes=(50,50,50,50),activation ='logistic', max_iter=3000)  \n",
    "classifier.fit(x_train, y_train.values.ravel())  \n",
    "predictions = classifier.predict(x_test)  "
   ]
  },
  {
   "cell_type": "code",
   "execution_count": 11,
   "metadata": {},
   "outputs": [
    {
     "name": "stdout",
     "output_type": "stream",
     "text": [
      "Classification Report for Perfomance Evaluation of ANN \n",
      "\n",
      "               precision    recall  f1-score   support\n",
      "\n",
      "     Default       0.78      0.66      0.71      1569\n",
      " Not Default       0.60      0.73      0.66      1086\n",
      "\n",
      "   micro avg       0.69      0.69      0.69      2655\n",
      "   macro avg       0.69      0.70      0.69      2655\n",
      "weighted avg       0.71      0.69      0.69      2655\n",
      "\n"
     ]
    }
   ],
   "source": [
    "#Classification Report for Perfomance Evaluation\n",
    "from sklearn import metrics\n",
    "print(\"Classification Report for Perfomance Evaluation of ANN \\n\\n\",metrics.classification_report(predictions, y_test, target_names = [\"Default\",\"Not Default\"]))"
   ]
  },
  {
   "cell_type": "code",
   "execution_count": 12,
   "metadata": {},
   "outputs": [
    {
     "name": "stdout",
     "output_type": "stream",
     "text": [
      "AUC: 74.800\n"
     ]
    },
    {
     "data": {
      "image/png": "[encoded data removed]",
      "text/plain": [
       "<Figure size 432x288 with 1 Axes>"
      ]
     },
     "metadata": {
      "needs_background": "light"
     },
     "output_type": "display_data"
    }
   ],
   "source": [
    "#Plotting the ROC curve for perfomcnace Evaluation\n",
    "\n",
    "from sklearn.metrics import roc_curve\n",
    "from sklearn.metrics import roc_auc_score\n",
    "from matplotlib import pyplot\n",
    "\n",
    "# predict probabilities\n",
    "probability = classifier.predict_proba(x_test)\n",
    "\n",
    "# keep probabilities for the positive outcome only\n",
    "probability = probability[:, 1]\n",
    "\n",
    "# calculate AUC\n",
    "auc = roc_auc_score(y_test, probability)\n",
    "print('AUC: %.3f' % (auc*100.0))\n",
    "\n",
    "# calculate roc curve\n",
    "fpr, tpr, thresholds = roc_curve(y_test, probability)\n",
    "\n",
    "# plot no skill\n",
    "pyplot.plot([0, 1], [0, 1], linestyle='--')\n",
    "\n",
    "# plot the roc curve \n",
    "pyplot.plot(fpr, tpr, marker='.')\n",
    "\n",
    "# display plot\n",
    "pyplot.show()"
   ]
  },
  {
   "cell_type": "code",
   "execution_count": 13,
   "metadata": {},
   "outputs": [
    {
     "data": {
      "image/png": "[encoded data removed]",
      "text/plain": [
       "<Figure size 432x288 with 1 Axes>"
      ]
     },
     "metadata": {
      "needs_background": "light"
     },
     "output_type": "display_data"
    }
   ],
   "source": [
    "#Print the confusion matrix based on the test values\n",
    "from sklearn.metrics import confusion_matrix\n",
    "import seaborn as sns; sns.set()\n",
    "import matplotlib.pyplot as plt\n",
    "\n",
    "get_ipython().run_line_magic('matplotlib', 'inline')\n",
    "mat = confusion_matrix(y_test, predictions)\n",
    "subGraph= plt.subplot()\n",
    "sns.heatmap(mat.T, square=True, annot=True, fmt='d', cbar=False,ax=subGraph)\n",
    "plt.xlabel('True Labels')\n",
    "plt.ylabel('Predicted Labels');\n",
    "\n",
    "# Defining the titles\n",
    "subGraph.set_title('Confusion Matrix');\n",
    "\n",
    "# Defining the class labels for axis\n",
    "subGraph.xaxis.set_ticklabels(['Not Default', 'Default']);\n",
    "subGraph.yaxis.set_ticklabels(['Not Default','Default']);"
   ]
  },
  {
   "cell_type": "code",
   "execution_count": 14,
   "metadata": {},
   "outputs": [
    {
     "name": "stdout",
     "output_type": "stream",
     "text": [
      "Cross validation Average Accuracy: 56.977510645445385\n"
     ]
    }
   ],
   "source": [
    "# Calculating the cross validation score of the dataset \n",
    "from sklearn.model_selection import cross_val_score\n",
    "\n",
    "scores = cross_val_score(classifier, x, y,cv=5)\n",
    "print(\"Cross validation Average Accuracy: \" + str(scores.mean()*100.0) )"
   ]
  },
  {
   "cell_type": "code",
   "execution_count": null,
   "metadata": {},
   "outputs": [],
   "source": []
  }
 ],
 "metadata": {
  "kernelspec": {
   "display_name": "Python 3",
   "language": "python",
   "name": "python3"
  },
  "language_info": {
   "codemirror_mode": {
    "name": "ipython",
    "version": 3
   },
   "file_extension": ".py",
   "mimetype": "text/x-python",
   "name": "python",
   "nbconvert_exporter": "python",
   "pygments_lexer": "ipython3",
   "version": "3.7.1"
  }
 },
 "nbformat": 4,
 "nbformat_minor": 2
}
